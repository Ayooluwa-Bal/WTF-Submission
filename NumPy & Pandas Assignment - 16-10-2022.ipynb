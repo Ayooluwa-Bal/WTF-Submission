{
 "cells": [
  {
   "cell_type": "markdown",
   "id": "23c32370",
   "metadata": {},
   "source": [
    "Instruction:\n",
    "\n",
    "Research and write down 20 In-built methonds on Pandas and 20 In-built methods on NumPy with examples"
   ]
  },
  {
   "cell_type": "markdown",
   "id": "fdb63f18",
   "metadata": {},
   "source": [
    "# For pandas:"
   ]
  },
  {
   "cell_type": "markdown",
   "id": "ec8e8bde",
   "metadata": {},
   "source": [
    "1. read_csv() function helps to read CSV files into Pandas dataframe. This is done by mentioning the path to the file that is to be read. File separated by delimiters other than comma (e.g | or tab) can also be read using this function"
   ]
  },
  {
   "cell_type": "markdown",
   "id": "411fcc13",
   "metadata": {},
   "source": [
    "2. astype () function is used to convert misintepreted datatypes back to  their correct format. They are also used to convert object datatype to category"
   ]
  },
  {
   "cell_type": "markdown",
   "id": "5bc16456",
   "metadata": {},
   "source": [
    "3. df[\"].dtypes is used to get the data type of the variables in the columns of the dataframe"
   ]
  },
  {
   "cell_type": "markdown",
   "id": "2dcd5af5",
   "metadata": {},
   "source": [
    "4. loc[:] helps us to access a group of rows & columns in a dataset and a slice of the dataset based on certain requirements we come up with. These rows and columns can be accessed based on either labels or row & column number"
   ]
  },
  {
   "cell_type": "markdown",
   "id": "b7a3b3ce",
   "metadata": {},
   "source": [
    "5. df[\"].value_counts() returns a Panda Series containing the counts of unique values"
   ]
  },
  {
   "cell_type": "markdown",
   "id": "2e6de371",
   "metadata": {},
   "source": [
    "6. drop_duplicates() returns a pandas dataframe with duplicate rows eliminated. "
   ]
  },
  {
   "cell_type": "markdown",
   "id": "2807bad4",
   "metadata": {},
   "source": [
    "7. merge() is used to merge two pandas dataframe objects or a dataframe and series object on a field (common field)."
   ]
  },
  {
   "cell_type": "markdown",
   "id": "ab0a6a38",
   "metadata": {},
   "source": [
    "8. sort_values is used to sort column by values in ascending or descending order in a pandas dataframe (or series)"
   ]
  },
  {
   "cell_type": "markdown",
   "id": "9628e340",
   "metadata": {},
   "source": [
    "9. fillna() helps to replace all NaN values ('Not a Number' - NaN is the label given to entries that were not populated in the original data source -a.k.a missing values) in a dataframe or series by imputing appropriate values"
   ]
  },
  {
   "cell_type": "markdown",
   "id": "8f9e480b",
   "metadata": {},
   "source": [
    "10. df.goupby() is used to group a pandas dataframe by one or more columns and carry out come mathematical operation on it. It can also be used to summarise date in a simple manner."
   ]
  },
  {
   "cell_type": "markdown",
   "id": "d2e69457",
   "metadata": {},
   "source": [
    "11. df.columns is used to print out all the columns of a datset, especially if it is very large"
   ]
  },
  {
   "cell_type": "markdown",
   "id": "45eba3ef",
   "metadata": {},
   "source": [
    "12. df.drop is used to drop columns from a dataset that are not useful for the analysis to be carried out"
   ]
  },
  {
   "cell_type": "markdown",
   "id": "023d17c4",
   "metadata": {},
   "source": [
    "13. len(df) gives the length of the DataFrame"
   ]
  },
  {
   "cell_type": "markdown",
   "id": "bf17f105",
   "metadata": {},
   "source": [
    "14. df.query is used to filter columns  in a dataset when we want to compare values in their rows using boolean expressions"
   ]
  },
  {
   "cell_type": "markdown",
   "id": "4a3734ba",
   "metadata": {},
   "source": [
    "15. df[\"].unique() is useful for categorical variables. It is used to find the unique values of a categorical column."
   ]
  },
  {
   "cell_type": "markdown",
   "id": "6706d636",
   "metadata": {},
   "source": [
    "16. df.replace replaces values of a column"
   ]
  },
  {
   "cell_type": "markdown",
   "id": "6348d1a4",
   "metadata": {},
   "source": [
    "17. df.rename() is used to rename a column(s)"
   ]
  },
  {
   "cell_type": "markdown",
   "id": "9e432678",
   "metadata": {},
   "source": [
    "18. df.nlargest/nsmallest gives the datset with n number of largest or smallest values of a specified variable."
   ]
  },
  {
   "cell_type": "markdown",
   "id": "58b368ba",
   "metadata": {},
   "source": [
    "19. df.iloc() function takes the index number of the ros and columns as a parameter to give the subset of the dataframe accordingly"
   ]
  },
  {
   "cell_type": "markdown",
   "id": "0ae1b791",
   "metadata": {},
   "source": [
    "20. df.select_dtypes() function is used to select the variables or columns of a certain data type"
   ]
  },
  {
   "cell_type": "markdown",
   "id": "cd57f72f",
   "metadata": {},
   "source": [
    "# For NumPy"
   ]
  },
  {
   "cell_type": "markdown",
   "id": "83e94085",
   "metadata": {},
   "source": [
    "1. .append() is used to append values to the end of an array"
   ]
  },
  {
   "cell_type": "markdown",
   "id": "8e77e5c4",
   "metadata": {},
   "source": [
    "2. .linspace() returns an array of evenly-spaced numbers over a given interval"
   ]
  },
  {
   "cell_type": "markdown",
   "id": "a89f63b2",
   "metadata": {},
   "source": [
    "3. .sum() sums the elements of an array over a given axis"
   ]
  },
  {
   "cell_type": "markdown",
   "id": "d8d7b5f7",
   "metadata": {},
   "source": [
    "4. .transpose() reverses or permutes the axes of an ndarray"
   ]
  },
  {
   "cell_type": "markdown",
   "id": "b8d531b8",
   "metadata": {},
   "source": [
    "5. .repeat() function repeats the elements of an array"
   ]
  },
  {
   "cell_type": "markdown",
   "id": "5b8e9e71",
   "metadata": {},
   "source": [
    "6. prod() returns the product of array elements over a given axis."
   ]
  },
  {
   "cell_type": "markdown",
   "id": "c7322eee",
   "metadata": {},
   "source": [
    "7. sum() Sum of array elements over a given axis.\n"
   ]
  },
  {
   "cell_type": "markdown",
   "id": "b9cbb872",
   "metadata": {},
   "source": [
    "8. nanprod() returns the product of array elements over a given axis treating Not a Numbers (NaNs) as ones.\n"
   ]
  },
  {
   "cell_type": "markdown",
   "id": "7fa388fb",
   "metadata": {},
   "source": [
    "9. nansum() returns the sum of array elements over a given axis treating Not a Numbers (NaNs) as zero.\n"
   ]
  },
  {
   "cell_type": "markdown",
   "id": "df88366f",
   "metadata": {},
   "source": [
    "10. cumprod() returns the cumulative product of elements along a given axis."
   ]
  },
  {
   "cell_type": "markdown",
   "id": "fb6b3131",
   "metadata": {},
   "source": [
    "11. diff() Calculates the n-th discrete difference along the given axis.\n",
    "\n"
   ]
  },
  {
   "cell_type": "markdown",
   "id": "6fd4f8c6",
   "metadata": {},
   "source": [
    "12. ediff1d() the differences between consecutive elements of an array."
   ]
  },
  {
   "cell_type": "markdown",
   "id": "faae0599",
   "metadata": {},
   "source": [
    "13. add() Adds arguments element-wise.\n"
   ]
  },
  {
   "cell_type": "markdown",
   "id": "fd8455fa",
   "metadata": {},
   "source": [
    "14. reciprocal() returns the reciprocal of the argument, element-wise."
   ]
  },
  {
   "cell_type": "markdown",
   "id": "fd7d6881",
   "metadata": {},
   "source": [
    "15. positive() Numerical positive, element-wise."
   ]
  },
  {
   "cell_type": "markdown",
   "id": "b510f641",
   "metadata": {},
   "source": [
    "16. negative() Numerical negative, element-wise."
   ]
  },
  {
   "cell_type": "markdown",
   "id": "34d155f0",
   "metadata": {},
   "source": [
    "17. multiply() Multiplies arguments element-wise."
   ]
  },
  {
   "cell_type": "markdown",
   "id": "36868210",
   "metadata": {},
   "source": [
    "18. divide() Divides arguments element-wise."
   ]
  },
  {
   "cell_type": "markdown",
   "id": "a0da5250",
   "metadata": {},
   "source": [
    "19. power() First array elements raised to powers from second array, element-wise."
   ]
  },
  {
   "cell_type": "markdown",
   "id": "cd21229e",
   "metadata": {},
   "source": [
    "20. subtract() Subtracts arguments, element-wise."
   ]
  },
  {
   "cell_type": "code",
   "execution_count": null,
   "id": "3569836c",
   "metadata": {},
   "outputs": [],
   "source": []
  }
 ],
 "metadata": {
  "kernelspec": {
   "display_name": "Python 3 (ipykernel)",
   "language": "python",
   "name": "python3"
  },
  "language_info": {
   "codemirror_mode": {
    "name": "ipython",
    "version": 3
   },
   "file_extension": ".py",
   "mimetype": "text/x-python",
   "name": "python",
   "nbconvert_exporter": "python",
   "pygments_lexer": "ipython3",
   "version": "3.9.7"
  }
 },
 "nbformat": 4,
 "nbformat_minor": 5
}
