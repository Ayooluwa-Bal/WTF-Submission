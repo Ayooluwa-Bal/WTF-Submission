{
 "cells": [
  {
   "cell_type": "markdown",
   "id": "89723b6e",
   "metadata": {},
   "source": [
    "1) Print all elements of a list using for loop"
   ]
  },
  {
   "cell_type": "code",
   "execution_count": 43,
   "id": "8801ac58",
   "metadata": {},
   "outputs": [
    {
     "name": "stdout",
     "output_type": "stream",
     "text": [
      "1991\n",
      "1992\n",
      "1993\n",
      "1994\n",
      "1995\n",
      "<class 'list'>\n"
     ]
    }
   ],
   "source": [
    "mylist = [1991, 1992, 1993, 1994, 1995]\n",
    "for year in mylist:\n",
    "    print(year)\n",
    "print(type(mylist))"
   ]
  },
  {
   "cell_type": "markdown",
   "id": "f04a4ae9",
   "metadata": {},
   "source": [
    "2) A company decided to give bonus of 5% to employee if his/her year of service is more than 5\n",
    "years. Ask user for their salary and year of service and print the net bonus amount"
   ]
  },
  {
   "cell_type": "code",
   "execution_count": 44,
   "id": "28665935",
   "metadata": {},
   "outputs": [
    {
     "name": "stdout",
     "output_type": "stream",
     "text": [
      "Enter your service year number : 10\n",
      "Enter your salary: 500000\n",
      "Your net bonus amount is 25000.0\n"
     ]
    }
   ],
   "source": [
    "serviceyear = int(input('Enter your service year number : '))\n",
    "salary = int(input('Enter your salary: ')) \n",
    "if serviceyear > 5:\n",
    "    print('Your net bonus amount is', 0.05*salary)"
   ]
  },
  {
   "cell_type": "markdown",
   "id": "62032fd9",
   "metadata": {},
   "source": [
    "3) Take input of age of 3 people by user and determine oldest and youngest among them."
   ]
  },
  {
   "cell_type": "code",
   "execution_count": 56,
   "id": "d88821f7",
   "metadata": {},
   "outputs": [
    {
     "name": "stdout",
     "output_type": "stream",
     "text": [
      "Enter age here user1: 55\n",
      "Enter age here user2: 30\n",
      "Enter age here user3: 55\n",
      "user1 is the oldest\n"
     ]
    }
   ],
   "source": [
    "user1 = int(input('Enter age here user1: '))\n",
    "user2 = int(input('Enter age here user2: '))\n",
    "user3 = int(input('Enter age here user3: '))\n",
    "\n",
    "if user1 >= user2 and user1 >= user3:\n",
    "    print('user1 is the oldest')\n",
    "elif user2 >= user1 and user2 >= user3:\n",
    "    print('user2 is the oldest')\n",
    "elif user3 >= user1 and user3 >= user2:\n",
    "    print('user3 is the oldest')\n",
    "else:\n",
    "    print('all users are same age')"
   ]
  },
  {
   "cell_type": "markdown",
   "id": "f7675a19",
   "metadata": {},
   "source": [
    "4) A school has following rules for grading system: \n",
    "a. Below 25 - F \n",
    "b. 25 to 45 - E \n",
    "c. 45 to 50 - D \n",
    "d. 50 to 60 - C \n",
    "e. 60 to 80 - B \n",
    "f. Above 80 - A"
   ]
  },
  {
   "cell_type": "markdown",
   "id": "e2509c8a",
   "metadata": {},
   "source": [
    "5) Ask user to enter marks and print the corresponding grade.\n"
   ]
  },
  {
   "cell_type": "code",
   "execution_count": 41,
   "id": "4b10e670",
   "metadata": {},
   "outputs": [
    {
     "name": "stdout",
     "output_type": "stream",
     "text": [
      "Enter your mark here: 55.5\n",
      "C\n"
     ]
    }
   ],
   "source": [
    "score = float(input('Enter your mark here: '))\n",
    "if score < 25:\n",
    "    print('F')\n",
    "elif score >= 25 and score < 45:\n",
    "    print('E')\n",
    "elif score >= 45 and score < 50:\n",
    "    print('D')\n",
    "elif score >= 50 and score < 60:\n",
    "    print('C')\n",
    "elif score >= 60 and score < 80:\n",
    "    print('B')\n",
    "else:\n",
    "    print('A')"
   ]
  },
  {
   "cell_type": "markdown",
   "id": "3ba3cd3e",
   "metadata": {},
   "source": [
    "6) Write a Python script to merge two Python dictionaries\n"
   ]
  },
  {
   "cell_type": "code",
   "execution_count": 31,
   "id": "9b8c12bb",
   "metadata": {},
   "outputs": [
    {
     "name": "stdout",
     "output_type": "stream",
     "text": [
      "{'Nigeria': 'Africa', 'Sweden': 'Europe', 'Qatar': 'Asia', 1: 'Mercury', 2: 'Venus', 3: 'Earth', 4: 'Mars'}\n"
     ]
    }
   ],
   "source": [
    "country_continent = {'Nigeria': 'Africa', 'Sweden': 'Europe', 'Qatar': 'Asia'}\n",
    "planets = {1: 'Mercury', 2: 'Venus', 3: 'Earth', 4: 'Mars'}\n",
    "geography = {**country_continent,**planets}\n",
    "print(geography)"
   ]
  },
  {
   "cell_type": "code",
   "execution_count": 57,
   "id": "82bed1c5",
   "metadata": {},
   "outputs": [
    {
     "name": "stdout",
     "output_type": "stream",
     "text": [
      "{'Kiitan': 19, 'Tiwi': 25, 'Tishe': 12, 'Lade': 25, 'Tiara': 15}\n"
     ]
    }
   ],
   "source": [
    "#method 2 - using the update method\n",
    "\n",
    "line1 = {'Kiitan': 19, 'Tiwi': 25, 'Tishe': 12}\n",
    "line2 = {'Lade': 25, 'Tiara': 15}\n",
    "line = line1.copy()\n",
    "line.update(line2)\n",
    "print(line)"
   ]
  },
  {
   "cell_type": "markdown",
   "id": "baa1f9b5",
   "metadata": {},
   "source": [
    "7) Write a python program to get the largest number from a list\n"
   ]
  },
  {
   "cell_type": "code",
   "execution_count": 28,
   "id": "9f4e051f",
   "metadata": {},
   "outputs": [
    {
     "name": "stdout",
     "output_type": "stream",
     "text": [
      "[25, 75, 125, 50, 100, 10]\n",
      "Largest number is: 125\n"
     ]
    }
   ],
   "source": [
    "number_list = [25, 75, 125, 50, 100, 10]\n",
    "print(number_list)\n",
    "max(number_list)\n",
    "print('Largest number is:',max(number_list))"
   ]
  },
  {
   "cell_type": "markdown",
   "id": "98fc03bf",
   "metadata": {},
   "source": [
    "8) Write a python program to remove a key from a dictionary"
   ]
  },
  {
   "cell_type": "code",
   "execution_count": 23,
   "id": "12dc84a5",
   "metadata": {},
   "outputs": [
    {
     "name": "stdout",
     "output_type": "stream",
     "text": [
      "Before removal:  {1: 'Mercury', 2: 'Venus', 3: 'Earth', 4: 'Mars', 5: 'Jupiter'}\n",
      "After removal:  {1: 'Mercury', 2: 'Venus', 4: 'Mars', 5: 'Jupiter'}\n",
      "<class 'dict'>\n"
     ]
    }
   ],
   "source": [
    "planet = {1: 'Mercury', 2: 'Venus', 3: 'Earth', 4: 'Mars', 5: 'Jupiter'}\n",
    "print('Before removal: ', planet)\n",
    "del planet[3]\n",
    "print('After removal: ', planet)\n",
    "print(type(planet))"
   ]
  }
 ],
 "metadata": {
  "kernelspec": {
   "display_name": "Python 3 (ipykernel)",
   "language": "python",
   "name": "python3"
  },
  "language_info": {
   "codemirror_mode": {
    "name": "ipython",
    "version": 3
   },
   "file_extension": ".py",
   "mimetype": "text/x-python",
   "name": "python",
   "nbconvert_exporter": "python",
   "pygments_lexer": "ipython3",
   "version": "3.9.7"
  }
 },
 "nbformat": 4,
 "nbformat_minor": 5
}
